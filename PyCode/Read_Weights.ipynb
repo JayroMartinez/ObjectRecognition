{
 "cells": [
  {
   "cell_type": "code",
   "execution_count": 1,
   "id": "01a3bbcf-ce6c-4faa-a1dc-28ae1ce715f7",
   "metadata": {},
   "outputs": [],
   "source": [
    "import json\n",
    "import numpy as np\n",
    "import pandas as pd\n",
    "import matplotlib.pyplot as plt"
   ]
  },
  {
   "cell_type": "code",
   "execution_count": 2,
   "id": "94c1dd2b-fcd1-4b73-9a6d-7a1193244201",
   "metadata": {},
   "outputs": [],
   "source": [
    "# file_name = \"./PyData/\" + \"Plates\" + \"_Kin.csv\"\n",
    "# data = pd.read_csv(file_name, header=None, index_col=0)\n",
    "# # print(data.sum().sum())\n",
    "# # print(len(data.iloc[0]))\n",
    "# # print(np.unique(data.index))\n",
    "# objects = np.unique(data.index)\n",
    "# new_dat = data.loc[objects[0]].mean()\n",
    "\n",
    "# print(objects)\n",
    "# print(data.index)\n"
   ]
  },
  {
   "cell_type": "code",
   "execution_count": 3,
   "id": "e5897162-fe0d-47b4-8d9d-3d3bfaa6e493",
   "metadata": {},
   "outputs": [
    {
     "name": "stdout",
     "output_type": "stream",
     "text": [
      "Saved  ./PyData/Weights_Mugs_Kin_EMG.png\n",
      "Saved  ./PyData/Weights_Plates_Kin_EMG.png\n",
      "Saved  ./PyData/Weights_Geometric_Kin_EMG.png\n",
      "Saved  ./PyData/Weights_Cutlery_Kin_EMG.png\n",
      "Saved  ./PyData/Weights_Ball_Kin_EMG.png\n"
     ]
    },
    {
     "data": {
      "image/png": "[encoded data removed]",
      "text/plain": [
       "<Figure size 432x288 with 1 Axes>"
      ]
     },
     "metadata": {
      "needs_background": "light"
     },
     "output_type": "display_data"
    }
   ],
   "source": [
    "families = ('Mugs', 'Plates', 'Geometric', 'Cutlery', 'Ball')\n",
    "\n",
    "for it in range(len(families)):\n",
    "    \n",
    "    file_name = \"./PyData/\" + families[it] + \"_Kin_EMG.csv\"\n",
    "    data = pd.read_csv(file_name, header=None, index_col=0)\n",
    "    objects = np.unique(data.index)\n",
    "    \n",
    "    new_dat = list()\n",
    "    for it2 in range(len(objects)):\n",
    "        new_dat.append(np.transpose(data.loc[objects[it2]].mean()))\n",
    "\n",
    "    new_df = pd.DataFrame(new_dat, index=objects)\n",
    "    p = plt.pcolor(new_df, cmap='RdBu', vmin=-0.01, vmax=0.01)\n",
    "    plt.yticks(np.arange(0.5, len(new_df.index), 1), new_df.index)\n",
    "    plt.xticks(np.arange(0.5, len(new_df.columns), 1), new_df.columns)\n",
    "    cb = plt.colorbar(p)\n",
    "    # plt.show()\n",
    "    save_file = \"./PyData/Weights_\" + families[it] + \"_Kin_EMG.png\"\n",
    "    plt.savefig(save_file)\n",
    "    cb.remove()\n",
    "    p.remove()\n",
    "    print(\"Saved \", save_file)"
   ]
  },
  {
   "cell_type": "code",
   "execution_count": null,
   "id": "5f78cd28-6382-43b3-a349-a7ad1a1324ba",
   "metadata": {},
   "outputs": [],
   "source": []
  }
 ],
 "metadata": {
  "kernelspec": {
   "display_name": "Python 3 (ipykernel)",
   "language": "python",
   "name": "python3"
  },
  "language_info": {
   "codemirror_mode": {
    "name": "ipython",
    "version": 3
   },
   "file_extension": ".py",
   "mimetype": "text/x-python",
   "name": "python",
   "nbconvert_exporter": "python",
   "pygments_lexer": "ipython3",
   "version": "3.8.13"
  }
 },
 "nbformat": 4,
 "nbformat_minor": 5
}
