{
 "cells": [
  {
   "cell_type": "code",
   "execution_count": 2,
   "id": "4cc25b82-99c8-4ad9-bcb3-ded75be0edb3",
   "metadata": {},
   "outputs": [],
   "source": [
    "import json\n",
    "import numpy as np\n",
    "from scipy import stats\n",
    "from sklearn.model_selection import StratifiedKFold\n",
    "from sklearn.linear_model import LogisticRegression\n",
    "# import glmnet_python\n",
    "# from glmnet_python import glmnet\n",
    "# from glmnet_python import glmnetPredict\n",
    "# from glmnet_python import glmnetPlot\n",
    "# from glmnet_python import cvglmnet\n",
    "# from glmnet_python import cvglmnetPredict\n",
    "# from glmnet_python import cvglmnetPlot\n",
    "import pandas as pd\n",
    "from sklearn.preprocessing import LabelEncoder\n",
    "from sklearn import svm\n",
    "from sklearn.neural_network import MLPClassifier\n",
    "import codecs\n",
    "import seaborn as sns\n",
    "import matplotlib.pyplot as plt\n",
    "import pingouin as pg"
   ]
  },
  {
   "cell_type": "code",
   "execution_count": 3,
   "id": "2b5ded2e-9dd1-4646-8da6-b0c3124f2319",
   "metadata": {},
   "outputs": [],
   "source": [
    "# VARIABLES TO ADJUST\n",
    "# 'Mugs', 'Plates', 'Geometric', 'Cutlery', 'Ball'\n",
    "family_to_select = 'Plates'\n",
    "target = 'Middle Abd'\n",
    "num_bins = 5\n",
    "cv = 3\n",
    "# C_par [0.2, 0.5, 1, 1.25, 1.5]\n",
    "C_par = 0.2\n",
    "l1vsl2 = 1"
   ]
  },
  {
   "cell_type": "code",
   "execution_count": 4,
   "id": "73b464b5-7926-46fc-9d57-dd91e9e90824",
   "metadata": {},
   "outputs": [],
   "source": [
    "# CONSTANTS\n",
    "\n",
    "obj_fam = dict(\n",
    "    CeramicMug = 'Mugs',\n",
    "    Glass = 'Mugs',\n",
    "    MetalMug = 'Mugs',\n",
    "    CeramicPlate = 'Plates',\n",
    "    MetalPlate = 'Plates',\n",
    "    PlasticPlate = 'Plates',\n",
    "    Cube = 'Geometric',\n",
    "    Cylinder ='Geometric',\n",
    "    Triangle ='Geometric',\n",
    "    Fork = 'Cutlery',\n",
    "    Knife ='Cutlery',\n",
    "    Spoon ='Cutlery',\n",
    "    PingPongBall = 'Ball',\n",
    "    SquashBall='Ball',\n",
    "    TennisBall='Ball'\n",
    ")\n",
    "\n",
    "kin_labels = [\"Thumb Rotate\", \"Thumb MPJ\", \"Thumb IJ\", \"Index MPJ\", \"Index PIJ\", \"Middle MPJ\", \"Middle PIJ\", \"Ring MPJ\", \"Ring PIJ\", \"Pinkie MPJ\", \"Pinkie PIJ\", \"Palm Arch\", \"Wrist Pitch\", \"Wrist Yaw\", \"Index Abd\", \"Pinkie Abd\", \"Ring Abd\", \"Middle Abd\", \"Thumb Abd\"]\n",
    "emg_labels = ['emg' + str(i) for i in range(0,64)]"
   ]
  },
  {
   "cell_type": "code",
   "execution_count": 5,
   "id": "e8864994-42ef-4341-a609-401fac9cc03b",
   "metadata": {},
   "outputs": [],
   "source": [
    "# READING FILES AND CREATING DATASET\n",
    "file_kin = \"./PyData/filtered_data.json\"\n",
    "file_eps = \"./PyData/ep_labels.json\"\n",
    "file_task = \"./PyData/task_labels.json\"\n",
    "file_emg = \"./PyData/emg_data.json\"\n",
    "\n",
    "with open(file_kin, \"r\") as f:\n",
    "    kin_data = json.load(f)  # data[subjects][trials][joints]\n",
    "\n",
    "with open(file_eps, \"r\") as g:\n",
    "    eps = json.load(g)  # eps[subjects][trials]\n",
    "\n",
    "with open(file_task, \"r\") as h:\n",
    "    task = json.load(h)  # task[subjects][trials]\n",
    "\n",
    "with open(file_emg, \"r\") as f:\n",
    "    emg_data = json.load(f)  # data[subjects][trials][sensors]\n",
    "        "
   ]
  },
  {
   "cell_type": "code",
   "execution_count": 6,
   "id": "5f190949-8299-4c55-9f7d-357d03b2dec8",
   "metadata": {},
   "outputs": [],
   "source": [
    "# VECTORIZING DATA\n",
    "\n",
    "vectorized_task = [x for sublist in task for x in sublist]  # Vectorization of tasks\n",
    "vectorized_eps = [x for sublist in eps for x in sublist]  # Vectorization of eps\n",
    "vectorized_kin = [x for sublist in kin_data for x in sublist]  # Vectorization of trials\n",
    "vectorized_kin = np.array(vectorized_kin, dtype=float) # Conversion to float to we replace 'None' with 'NaN'\n",
    "vectorized_emg = [x for sublist in emg_data for x in sublist]  # Vectorization of trials\n",
    "vectorized_emg = np.array(vectorized_emg, dtype=float) # Conversion to float to we replace 'None' with 'NaN'\n",
    "given_object = [x.split(\"_\")[0] for x in vectorized_task]  # Vectorized given objects\n",
    "ask_object = [x.split(\"_\")[1] for x in vectorized_task]  # Vectorized asked objects\n"
   ]
  },
  {
   "cell_type": "code",
   "execution_count": 50,
   "id": "6c632103-bcf4-479b-af0e-789eec1c655b",
   "metadata": {},
   "outputs": [],
   "source": [
    "aux = np.concatenate([vectorized_kin, vectorized_emg], axis=1)\n",
    "labs = np.concatenate([kin_labels, emg_labels])\n",
    "\n",
    "new_df = pd.DataFrame(aux, columns=labs)\n",
    "new_df['EPs'] = vectorized_eps\n",
    "new_df['Task'] = vectorized_task\n",
    "new_df['Given'] = given_object\n",
    "new_df['Asked'] = ask_object\n",
    "new_df['Family'] = [obj_fam[x] for x in given_object]\n",
    "\n",
    "tr = 0\n",
    "trial = np.zeros((len(new_df['Task']),), dtype=int)\n",
    "\n",
    "for i in range(1,len(new_df['Task'])):\n",
    "    if vectorized_task[i] != vectorized_task[i-1]:\n",
    "        tr += 1\n",
    "    trial[i] = tr \n",
    "        \n",
    "new_df['Task number'] = trial        \n",
    "new_df.head\n",
    "\n",
    "ep = 0\n",
    "eps = np.zeros((len(new_df['EPs']),), dtype=int)\n",
    "\n",
    "for j in range(1,len(new_df['EPs'])):\n",
    "    if vectorized_task[j] != vectorized_task[j-1]: # EP to 0 if we change trial\n",
    "        ep = 0\n",
    "    elif vectorized_eps[j] != vectorized_eps[j-1]:\n",
    "        ep += 1\n",
    "    eps[j] = ep \n",
    "        \n",
    "new_df['EP number'] = eps        "
   ]
  },
  {
   "cell_type": "code",
   "execution_count": null,
   "id": "2e8a3553-e2c0-4a3c-8ea7-6e1417a761fa",
   "metadata": {},
   "outputs": [],
   "source": []
  }
 ],
 "metadata": {
  "kernelspec": {
   "display_name": "Python 3 (ipykernel)",
   "language": "python",
   "name": "python3"
  },
  "language_info": {
   "codemirror_mode": {
    "name": "ipython",
    "version": 3
   },
   "file_extension": ".py",
   "mimetype": "text/x-python",
   "name": "python",
   "nbconvert_exporter": "python",
   "pygments_lexer": "ipython3",
   "version": "3.8.13"
  }
 },
 "nbformat": 4,
 "nbformat_minor": 5
}
